{
 "cells": [
  {
   "cell_type": "code",
   "execution_count": 1,
   "metadata": {},
   "outputs": [],
   "source": [
    "import os \n",
    "file_names = os.listdir(r\"D:\\New_Journey\\Kaggle_competition\\AI_mathematical_olympaid\\100_days_ML_CampusX - Copy\")\n",
    "temp_file_names = [i[:-10] for i in file_names]\n",
    "with open(r\"D:\\New_Journey\\Coding\\Solutions_VS\\Hackerrank_practice\\DSA\\LeetCode\\Easy\\3010\\sample.txt\",'w') as file:\n",
    "    for i in temp_file_names:\n",
    "        file.write(i)\n",
    "        file.write(\"\\n\")"
   ]
  },
  {
   "cell_type": "markdown",
   "metadata": {},
   "source": [
    "Creating txt files of original ones "
   ]
  },
  {
   "cell_type": "code",
   "execution_count": 2,
   "metadata": {},
   "outputs": [],
   "source": [
    "import os \n",
    "file_names = os.listdir(r\"D:\\New_Journey\\Kaggle_competition\\AI_mathematical_olympaid\\100_days_ML\")\n",
    "# Adam Optimizer Explained in Detail with Animations _ Optimizers in Deep Learning Part 5(720P_HD).mp4\n",
    "for given_name in file_names:\n",
    "    exact_name = fr\"D:\\New_Journey\\Kaggle_competition\\AI_mathematical_olympaid\\Experimenting_Names\\{given_name[:-13]}.txt\"\n",
    "    with open(exact_name,'w') as file:\n",
    "        file.write('I think so')\n"
   ]
  },
  {
   "cell_type": "code",
   "execution_count": 3,
   "metadata": {},
   "outputs": [
    {
     "name": "stdout",
     "output_type": "stream",
     "text": [
      "100 Days of Deep Learning _ Course Announcement(720P_HD).mp4\n",
      "Activation Functions in Deep Learning _ Sigmoid_ Tanh and Relu Activation Function(720P_HD).mp4\n",
      "AdaGrad Explained in Detail with Animations _ Optimizers in Deep Learning Part 4(720P_HD).mp4\n",
      "Adam Optimizer Explained in Detail with Animations _ Optimizers in Deep Learning Part 5(720P_HD).mp4\n",
      "Attention Mechanism in 1 video _ Seq2Seq Networks _ Encoder Decoder Architecture(720P_HD).mp4\n"
     ]
    }
   ],
   "source": [
    "import os \n",
    "file_names = os.listdir(r\"D:\\New_Journey\\Kaggle_competition\\AI_mathematical_olympaid\\100_days_ML\")\n",
    "for i in file_names[:5]:\n",
    "    print(i)"
   ]
  },
  {
   "cell_type": "code",
   "execution_count": 9,
   "metadata": {},
   "outputs": [
    {
     "name": "stdout",
     "output_type": "stream",
     "text": [
      "100DaysofDeepLearningCourseAnnouncement720PHDmp4\n",
      "ActivationFunctionsinDeepLearningSigmoidTanhandReluActivationFunction720PHDmp4\n",
      "AdaGradExplainedinDetailwithAnimationsOptimizersinDeepLearningPart4720PHDmp4\n",
      "AdamOptimizerExplainedinDetailwithAnimationsOptimizersinDeepLearningPart5720PHDmp4\n",
      "AttentionMechanismin1videoSeq2SeqNetworksEncoderDecoderArchitecture720PHDmp4\n"
     ]
    }
   ],
   "source": [
    "import re\n",
    "\n",
    "def remove_special_characters(input_string):\n",
    "    # Define a regular expression pattern to match non-alphanumeric characters and spaces\n",
    "    pattern = r'[^a-zA-Z0-9]'\n",
    "\n",
    "    # Use re.sub() to replace matched characters with an empty string\n",
    "    cleaned_string = re.sub(pattern, '', input_string)\n",
    "\n",
    "    return cleaned_string\n",
    "\n",
    "# Example usage:\n",
    "file_names = os.listdir(r\"D:\\New_Journey\\Kaggle_competition\\AI_mathematical_olympaid\\100_days_ML\")\n",
    "for i in file_names[:5]:\n",
    "    cleaned_string = remove_special_characters(i)\n",
    "    print(cleaned_string)"
   ]
  },
  {
   "cell_type": "code",
   "execution_count": 8,
   "metadata": {},
   "outputs": [
    {
     "name": "stdout",
     "output_type": "stream",
     "text": [
      "100DaysofDeepLearningCourseAnnouncement\n",
      "ActivationFunctionsinDeepLearningSigmoidTanhandReluActivationFunction\n",
      "AdaGradExplainedinDetailwithAnimationsOptimizersinDeepLearningPart4\n",
      "AdamOptimizerExplainedinDetailwithAnimationsOptimizersinDeepLearningPart5\n",
      "AttentionMechanismin1videoSeq2SeqNetworksEncoderDecoderArchitecture\n"
     ]
    }
   ],
   "source": [
    "import re\n",
    "\n",
    "def remove_special_characters(input_string):\n",
    "    # Define a regular expression pattern to match non-alphanumeric characters and spaces\n",
    "    pattern = r'[^a-zA-Z0-9]'\n",
    "\n",
    "    # Use re.sub() to replace matched characters with an empty string\n",
    "    cleaned_string = re.sub(pattern, '', input_string)\n",
    "\n",
    "    return cleaned_string\n",
    "\n",
    "# Example usage:\n",
    "file_names = os.listdir(r\"D:\\New_Journey\\Kaggle_competition\\AI_mathematical_olympaid\\100_days_ML\")\n",
    "for i in file_names[:5]:\n",
    "    cleaned_string = remove_special_characters(i[:-13])\n",
    "    print(cleaned_string)"
   ]
  },
  {
   "cell_type": "code",
   "execution_count": null,
   "metadata": {},
   "outputs": [],
   "source": [
    "import re\n",
    "def remove_special_characters(input_string):\n",
    "    pattern = r'[^a-zA-Z0-9]'\n",
    "    cleaned_string = re.sub(pattern, '', input_string)\n",
    "    return cleaned_string\n",
    "file_names = os.listdir(r\"D:\\New_Journey\\Kaggle_competition\\AI_mathematical_olympaid\\100_days_ML\")\n",
    "for i in file_names[:5]:\n",
    "    cleaned_string = remove_special_characters(i[:-13])\n",
    "    print(cleaned_string)"
   ]
  },
  {
   "cell_type": "code",
   "execution_count": 3,
   "metadata": {},
   "outputs": [
    {
     "ename": "TypeError",
     "evalue": "'float' object cannot be interpreted as an integer",
     "output_type": "error",
     "traceback": [
      "\u001b[1;31m---------------------------------------------------------------------------\u001b[0m",
      "\u001b[1;31mTypeError\u001b[0m                                 Traceback (most recent call last)",
      "Cell \u001b[1;32mIn[3], line 6\u001b[0m\n\u001b[0;32m      3\u001b[0m         \u001b[38;5;28;01mif\u001b[39;00m i \u001b[38;5;241m%\u001b[39m \u001b[38;5;241m2\u001b[39m \u001b[38;5;241m==\u001b[39m \u001b[38;5;241m0\u001b[39m:\n\u001b[0;32m      4\u001b[0m             \u001b[38;5;28mprint\u001b[39m(i, end\u001b[38;5;241m=\u001b[39m\u001b[38;5;124m'\u001b[39m\u001b[38;5;124m \u001b[39m\u001b[38;5;124m'\u001b[39m)\n\u001b[1;32m----> 6\u001b[0m \u001b[43mprint_numbers\u001b[49m\u001b[43m(\u001b[49m\u001b[38;5;241;43m5.0\u001b[39;49m\u001b[43m)\u001b[49m\n",
      "Cell \u001b[1;32mIn[3], line 2\u001b[0m, in \u001b[0;36mprint_numbers\u001b[1;34m(n)\u001b[0m\n\u001b[0;32m      1\u001b[0m \u001b[38;5;28;01mdef\u001b[39;00m \u001b[38;5;21mprint_numbers\u001b[39m(n):\n\u001b[1;32m----> 2\u001b[0m     \u001b[38;5;28;01mfor\u001b[39;00m i \u001b[38;5;129;01min\u001b[39;00m \u001b[38;5;28;43mrange\u001b[39;49m\u001b[43m(\u001b[49m\u001b[43mn\u001b[49m\u001b[43m)\u001b[49m:\n\u001b[0;32m      3\u001b[0m         \u001b[38;5;28;01mif\u001b[39;00m i \u001b[38;5;241m%\u001b[39m \u001b[38;5;241m2\u001b[39m \u001b[38;5;241m==\u001b[39m \u001b[38;5;241m0\u001b[39m:\n\u001b[0;32m      4\u001b[0m             \u001b[38;5;28mprint\u001b[39m(i, end\u001b[38;5;241m=\u001b[39m\u001b[38;5;124m'\u001b[39m\u001b[38;5;124m \u001b[39m\u001b[38;5;124m'\u001b[39m)\n",
      "\u001b[1;31mTypeError\u001b[0m: 'float' object cannot be interpreted as an integer"
     ]
    }
   ],
   "source": [
    "def print_numbers(n):\n",
    "    for i in range(n):\n",
    "        if i % 2 == 0:\n",
    "            print(i, end=' ')\n",
    "\n",
    "print_numbers(5.0)"
   ]
  },
  {
   "cell_type": "code",
   "execution_count": null,
   "metadata": {},
   "outputs": [],
   "source": []
  }
 ],
 "metadata": {
  "kernelspec": {
   "display_name": "Python 3",
   "language": "python",
   "name": "python3"
  },
  "language_info": {
   "codemirror_mode": {
    "name": "ipython",
    "version": 3
   },
   "file_extension": ".py",
   "mimetype": "text/x-python",
   "name": "python",
   "nbconvert_exporter": "python",
   "pygments_lexer": "ipython3",
   "version": "3.11.2"
  }
 },
 "nbformat": 4,
 "nbformat_minor": 2
}
