{
 "cells": [
  {
   "cell_type": "code",
   "execution_count": 1,
   "metadata": {},
   "outputs": [
    {
     "ename": "TypeError",
     "evalue": "unsupported operand type(s) for -: 'list' and 'list'",
     "output_type": "error",
     "traceback": [
      "\u001b[1;31m---------------------------------------------------------------------------\u001b[0m",
      "\u001b[1;31mTypeError\u001b[0m                                 Traceback (most recent call last)",
      "Cell \u001b[1;32mIn[1], line 3\u001b[0m\n\u001b[0;32m      1\u001b[0m test_1 \u001b[38;5;241m=\u001b[39m [\u001b[38;5;241m1\u001b[39m,\u001b[38;5;241m2\u001b[39m,\u001b[38;5;241m3\u001b[39m,\u001b[38;5;241m4\u001b[39m,\u001b[38;5;241m5\u001b[39m]\n\u001b[0;32m      2\u001b[0m test_2 \u001b[38;5;241m=\u001b[39m [\u001b[38;5;241m5\u001b[39m,\u001b[38;5;241m4\u001b[39m,\u001b[38;5;241m3\u001b[39m,\u001b[38;5;241m2\u001b[39m,\u001b[38;5;241m1\u001b[39m]\n\u001b[1;32m----> 3\u001b[0m \u001b[38;5;28mprint\u001b[39m(test_1 \u001b[38;5;241m-\u001b[39m test_2)\n",
      "\u001b[1;31mTypeError\u001b[0m: unsupported operand type(s) for -: 'list' and 'list'"
     ]
    }
   ],
   "source": [
    "test_1 = [1,2,3,4,5]\n",
    "test_2 = [5,4,3,2,1]\n",
    "print(test_1 - test_2)"
   ]
  },
  {
   "cell_type": "code",
   "execution_count": 3,
   "metadata": {},
   "outputs": [
    {
     "name": "stdout",
     "output_type": "stream",
     "text": [
      "[-4, -2, 0, 2, 4]\n"
     ]
    }
   ],
   "source": [
    "import numpy as np \n",
    "test_3 = np.array(test_1)\n",
    "test_4 = np.array(test_2)   \n",
    "print(list(test_3 - test_4))"
   ]
  },
  {
   "cell_type": "code",
   "execution_count": 4,
   "metadata": {},
   "outputs": [
    {
     "ename": "TypeError",
     "evalue": "unsupported operand type(s) for -: 'NoneType' and 'int'",
     "output_type": "error",
     "traceback": [
      "\u001b[1;31m---------------------------------------------------------------------------\u001b[0m",
      "\u001b[1;31mTypeError\u001b[0m                                 Traceback (most recent call last)",
      "Cell \u001b[1;32mIn[4], line 2\u001b[0m\n\u001b[0;32m      1\u001b[0m test_5 \u001b[38;5;241m=\u001b[39m \u001b[38;5;28;01mNone\u001b[39;00m \n\u001b[1;32m----> 2\u001b[0m \u001b[38;5;28mprint\u001b[39m(\u001b[38;5;28mlist\u001b[39m(test_5 \u001b[38;5;241m-\u001b[39m test_3))\n",
      "\u001b[1;31mTypeError\u001b[0m: unsupported operand type(s) for -: 'NoneType' and 'int'"
     ]
    }
   ],
   "source": [
    "test_5 = None \n",
    "print(list(test_5 - test_3))"
   ]
  },
  {
   "cell_type": "code",
   "execution_count": 5,
   "metadata": {},
   "outputs": [
    {
     "data": {
      "text/plain": [
       "array([0., 0., 0., 0., 0.])"
      ]
     },
     "execution_count": 5,
     "metadata": {},
     "output_type": "execute_result"
    }
   ],
   "source": [
    "test_6 = np.zeros(5)\n",
    "test_6"
   ]
  },
  {
   "cell_type": "code",
   "execution_count": 10,
   "metadata": {},
   "outputs": [
    {
     "name": "stdout",
     "output_type": "stream",
     "text": [
      "[4, 5]\n"
     ]
    }
   ],
   "source": [
    "test_8 = [1,2,3,4,5]\n",
    "print(test_8[-2:])"
   ]
  },
  {
   "cell_type": "code",
   "execution_count": 1,
   "metadata": {},
   "outputs": [
    {
     "name": "stdout",
     "output_type": "stream",
     "text": [
      "0\n"
     ]
    }
   ],
   "source": [
    "test = [0,2,2,2,0,2,0,2,0,2,2,2,2,4,0,2,0,2,2,2,2,2,2,0,2,4,2,4,2,0,4,0,2,2,0,2,2,2,2,2,2,2,4,4,0,4,4,2,2,4,0,4,0,2,2,2,2,2,2,2,2,2,0,2,2,4,4,2,4,4,4,4,0,4,6,2,4,4,0,6,0,2,2,2,0,2,2,2,2,2,2,2,2,2,2,4,4,4,0,4,4,4,4,2,2,4,6,4,0,4,4,2,2,6,0,6,0,2,2,2,2,2,2,2,2,2,2,2,2,0,2,2,2,4,4,4,2,4,4,4,4,4,4,0,4,4,6,4,2,4,4,6,4,0,4,6,2,4,6,0,8,0,2,2,2,2,0,2,2,2,2,2,2,2,2,2,2,2,2,2,4,4,4,4,0,4,4,4,4,4,4,2,2,4,4,6,4,4,0,4,4,6,4,2,2,4,8,4,0,4,6,2,2,8,0,8,0,2,2,2,2,2,2,2,2,2,2,2,2,2,2,2,0,2,2,2,2,4,4,4,4,2,4,4,4,4,4,4,4,4,0,4,4,4,6,4,4,2,4,4,4,6,4,4,0,4,4,8,4,2,4,4,6,4,0,4,8,2,4,8,0,10,0,2,2,2,2,2,0,2,2,2,2,2,2,2,2,2,2,2,2,2,2,2,2,4,4,4,4,4,0,4,4,4,4,4,4,4,4,2,2,4,4,4,6,4,4,4,0,4,4,4,6,4,4,2,2,4,4,8,4,4,0,4,4,8,4,2,2,4,8,4,0,4,8,2,2,10,0,10]\n",
    "print(min(test))"
   ]
  },
  {
   "cell_type": "code",
   "execution_count": 3,
   "metadata": {},
   "outputs": [
    {
     "name": "stdout",
     "output_type": "stream",
     "text": [
      "10 8 6 4 2 0\n"
     ]
    }
   ],
   "source": [
    "test  = list(set(test))\n",
    "test.sort(reverse=True)\n",
    "print(*test)"
   ]
  },
  {
   "cell_type": "code",
   "execution_count": 5,
   "metadata": {},
   "outputs": [
    {
     "data": {
      "text/html": [
       "<div>\n",
       "<style scoped>\n",
       "    .dataframe tbody tr th:only-of-type {\n",
       "        vertical-align: middle;\n",
       "    }\n",
       "\n",
       "    .dataframe tbody tr th {\n",
       "        vertical-align: top;\n",
       "    }\n",
       "\n",
       "    .dataframe thead th {\n",
       "        text-align: right;\n",
       "    }\n",
       "</style>\n",
       "<table border=\"1\" class=\"dataframe\">\n",
       "  <thead>\n",
       "    <tr style=\"text-align: right;\">\n",
       "      <th></th>\n",
       "      <th>sides</th>\n",
       "      <th>values</th>\n",
       "    </tr>\n",
       "  </thead>\n",
       "  <tbody>\n",
       "    <tr>\n",
       "      <th>0</th>\n",
       "      <td>1</td>\n",
       "      <td>1</td>\n",
       "    </tr>\n",
       "    <tr>\n",
       "      <th>1</th>\n",
       "      <td>2</td>\n",
       "      <td>5</td>\n",
       "    </tr>\n",
       "    <tr>\n",
       "      <th>2</th>\n",
       "      <td>3</td>\n",
       "      <td>13</td>\n",
       "    </tr>\n",
       "    <tr>\n",
       "      <th>3</th>\n",
       "      <td>4</td>\n",
       "      <td>27</td>\n",
       "    </tr>\n",
       "    <tr>\n",
       "      <th>4</th>\n",
       "      <td>5</td>\n",
       "      <td>48</td>\n",
       "    </tr>\n",
       "    <tr>\n",
       "      <th>5</th>\n",
       "      <td>6</td>\n",
       "      <td>78</td>\n",
       "    </tr>\n",
       "    <tr>\n",
       "      <th>6</th>\n",
       "      <td>7</td>\n",
       "      <td>118</td>\n",
       "    </tr>\n",
       "    <tr>\n",
       "      <th>7</th>\n",
       "      <td>8</td>\n",
       "      <td>170</td>\n",
       "    </tr>\n",
       "  </tbody>\n",
       "</table>\n",
       "</div>"
      ],
      "text/plain": [
       "   sides  values\n",
       "0      1       1\n",
       "1      2       5\n",
       "2      3      13\n",
       "3      4      27\n",
       "4      5      48\n",
       "5      6      78\n",
       "6      7     118\n",
       "7      8     170"
      ]
     },
     "execution_count": 5,
     "metadata": {},
     "output_type": "execute_result"
    }
   ],
   "source": [
    "triangels = {'sides':[1,2,3,4,5,6,7,8],'values':[1,5,13,27,48,78,118,170]}\n",
    "import pandas as pd \n",
    "data = pd.DataFrame(triangels)\n",
    "data"
   ]
  },
  {
   "cell_type": "code",
   "execution_count": 21,
   "metadata": {},
   "outputs": [
    {
     "data": {
      "text/html": [
       "<div>\n",
       "<style scoped>\n",
       "    .dataframe tbody tr th:only-of-type {\n",
       "        vertical-align: middle;\n",
       "    }\n",
       "\n",
       "    .dataframe tbody tr th {\n",
       "        vertical-align: top;\n",
       "    }\n",
       "\n",
       "    .dataframe thead th {\n",
       "        text-align: right;\n",
       "    }\n",
       "</style>\n",
       "<table border=\"1\" class=\"dataframe\">\n",
       "  <thead>\n",
       "    <tr style=\"text-align: right;\">\n",
       "      <th></th>\n",
       "      <th>sides</th>\n",
       "      <th>values</th>\n",
       "      <th>squares</th>\n",
       "      <th>difference</th>\n",
       "      <th>two_table</th>\n",
       "    </tr>\n",
       "  </thead>\n",
       "  <tbody>\n",
       "    <tr>\n",
       "      <th>0</th>\n",
       "      <td>1</td>\n",
       "      <td>1</td>\n",
       "      <td>1</td>\n",
       "      <td>0</td>\n",
       "      <td>0.0</td>\n",
       "    </tr>\n",
       "    <tr>\n",
       "      <th>1</th>\n",
       "      <td>2</td>\n",
       "      <td>5</td>\n",
       "      <td>2</td>\n",
       "      <td>3</td>\n",
       "      <td>1.5</td>\n",
       "    </tr>\n",
       "    <tr>\n",
       "      <th>2</th>\n",
       "      <td>3</td>\n",
       "      <td>13</td>\n",
       "      <td>4</td>\n",
       "      <td>9</td>\n",
       "      <td>4.5</td>\n",
       "    </tr>\n",
       "    <tr>\n",
       "      <th>3</th>\n",
       "      <td>4</td>\n",
       "      <td>27</td>\n",
       "      <td>8</td>\n",
       "      <td>19</td>\n",
       "      <td>9.5</td>\n",
       "    </tr>\n",
       "    <tr>\n",
       "      <th>4</th>\n",
       "      <td>5</td>\n",
       "      <td>48</td>\n",
       "      <td>16</td>\n",
       "      <td>32</td>\n",
       "      <td>16.0</td>\n",
       "    </tr>\n",
       "    <tr>\n",
       "      <th>5</th>\n",
       "      <td>6</td>\n",
       "      <td>78</td>\n",
       "      <td>32</td>\n",
       "      <td>46</td>\n",
       "      <td>23.0</td>\n",
       "    </tr>\n",
       "    <tr>\n",
       "      <th>6</th>\n",
       "      <td>7</td>\n",
       "      <td>118</td>\n",
       "      <td>64</td>\n",
       "      <td>54</td>\n",
       "      <td>27.0</td>\n",
       "    </tr>\n",
       "    <tr>\n",
       "      <th>7</th>\n",
       "      <td>8</td>\n",
       "      <td>170</td>\n",
       "      <td>128</td>\n",
       "      <td>42</td>\n",
       "      <td>21.0</td>\n",
       "    </tr>\n",
       "  </tbody>\n",
       "</table>\n",
       "</div>"
      ],
      "text/plain": [
       "   sides  values  squares  difference  two_table\n",
       "0      1       1        1           0        0.0\n",
       "1      2       5        2           3        1.5\n",
       "2      3      13        4           9        4.5\n",
       "3      4      27        8          19        9.5\n",
       "4      5      48       16          32       16.0\n",
       "5      6      78       32          46       23.0\n",
       "6      7     118       64          54       27.0\n",
       "7      8     170      128          42       21.0"
      ]
     },
     "execution_count": 21,
     "metadata": {},
     "output_type": "execute_result"
    }
   ],
   "source": [
    "squares = []\n",
    "difference = []\n",
    "two_table = []\n",
    "count =0\n",
    "for i in data['values']:\n",
    "    squared = 2**count\n",
    "    squares.append(squared)\n",
    "    diff = i -squared\n",
    "    difference.append(diff)\n",
    "    two_table.append(diff/2)\n",
    "    count += 1\n",
    "temp = data.copy()\n",
    "temp['squares'] = squares\n",
    "temp['difference'] = difference\n",
    "temp['two_table'] = two_table\n",
    "temp"
   ]
  },
  {
   "cell_type": "code",
   "execution_count": 22,
   "metadata": {},
   "outputs": [
    {
     "data": {
      "text/plain": [
       "Counter({4: 3,\n",
       "         6: 2,\n",
       "         8: 2,\n",
       "         10: 2,\n",
       "         12: 2,\n",
       "         14: 2,\n",
       "         16: 2,\n",
       "         18: 2,\n",
       "         20: 2,\n",
       "         22: 2,\n",
       "         24: 2,\n",
       "         26: 2,\n",
       "         28: 2,\n",
       "         30: 2,\n",
       "         32: 2,\n",
       "         34: 2,\n",
       "         36: 2,\n",
       "         38: 2,\n",
       "         40: 2,\n",
       "         42: 2,\n",
       "         44: 2,\n",
       "         46: 2,\n",
       "         48: 2,\n",
       "         50: 2,\n",
       "         52: 2,\n",
       "         54: 2,\n",
       "         56: 2,\n",
       "         58: 2,\n",
       "         60: 2,\n",
       "         62: 2,\n",
       "         64: 2,\n",
       "         66: 2,\n",
       "         68: 2,\n",
       "         70: 2,\n",
       "         72: 2,\n",
       "         74: 2,\n",
       "         76: 2,\n",
       "         78: 2,\n",
       "         80: 2,\n",
       "         82: 2,\n",
       "         84: 2,\n",
       "         86: 2,\n",
       "         88: 2,\n",
       "         90: 2,\n",
       "         92: 2,\n",
       "         94: 2,\n",
       "         96: 2,\n",
       "         98: 2,\n",
       "         100: 2,\n",
       "         2: 1})"
      ]
     },
     "execution_count": 22,
     "metadata": {},
     "output_type": "execute_result"
    }
   ],
   "source": [
    "from collections import  Counter \n",
    "test_1 = [2,4,4,4,6,6,8,8,10,10,12,12,14,14,16,16,18,18,20,20,22,22,24,24,26,26,28,28,30,30,32,32,34,34,36,36,38,38,40,40,42,42,44,44,46,46,48,48,50,50,52,52,54,54,56,56,58,58,60,60,62,62,64,64,66,66,68,68,70,70,72,72,74,74,76,76,78,78,80,80,82,82,84,84,86,86,88,88,90,90,92,92,94,94,96,96,98,98,100,100]\n",
    "Counter(test_1)"
   ]
  },
  {
   "cell_type": "code",
   "execution_count": null,
   "metadata": {},
   "outputs": [],
   "source": []
  }
 ],
 "metadata": {
  "kernelspec": {
   "display_name": "base",
   "language": "python",
   "name": "python3"
  },
  "language_info": {
   "codemirror_mode": {
    "name": "ipython",
    "version": 3
   },
   "file_extension": ".py",
   "mimetype": "text/x-python",
   "name": "python",
   "nbconvert_exporter": "python",
   "pygments_lexer": "ipython3",
   "version": "3.11.7"
  }
 },
 "nbformat": 4,
 "nbformat_minor": 2
}
