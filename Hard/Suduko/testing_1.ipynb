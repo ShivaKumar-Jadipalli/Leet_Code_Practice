{
 "cells": [
  {
   "cell_type": "code",
   "execution_count": 1,
   "metadata": {},
   "outputs": [],
   "source": [
    "import numpy as np\n",
    "board = np.array([[\"5\",\"3\",\".\",\".\",\"7\",\".\",\".\",\".\",\".\"],[\"6\",\".\",\".\",\"1\",\"9\",\"5\",\".\",\".\",\".\"],[\".\",\"9\",\"8\",\".\",\".\",\".\",\".\",\"6\",\".\"],[\"8\",\".\",\".\",\".\",\"6\",\".\",\".\",\".\",\"3\"],[\"4\",\".\",\".\",\"8\",\".\",\"3\",\".\",\".\",\"1\"],[\"7\",\".\",\".\",\".\",\"2\",\".\",\".\",\".\",\"6\"],[\".\",\"6\",\".\",\".\",\".\",\".\",\"2\",\"8\",\".\"],[\".\",\".\",\".\",\"4\",\"1\",\"9\",\".\",\".\",\"5\"],[\".\",\".\",\".\",\".\",\"8\",\".\",\".\",\"7\",\"9\"]])"
   ]
  },
  {
   "cell_type": "code",
   "execution_count": 2,
   "metadata": {},
   "outputs": [
    {
     "data": {
      "text/plain": [
       "array([['5', '3', '.', '.', '7', '.', '.', '.', '.'],\n",
       "       ['6', '.', '.', '1', '9', '5', '.', '.', '.'],\n",
       "       ['.', '9', '8', '.', '.', '.', '.', '6', '.'],\n",
       "       ['8', '.', '.', '.', '6', '.', '.', '.', '3'],\n",
       "       ['4', '.', '.', '8', '.', '3', '.', '.', '1'],\n",
       "       ['7', '.', '.', '.', '2', '.', '.', '.', '6'],\n",
       "       ['.', '6', '.', '.', '.', '.', '2', '8', '.'],\n",
       "       ['.', '.', '.', '4', '1', '9', '.', '.', '5'],\n",
       "       ['.', '.', '.', '.', '8', '.', '.', '7', '9']], dtype='<U1')"
      ]
     },
     "execution_count": 2,
     "metadata": {},
     "output_type": "execute_result"
    }
   ],
   "source": [
    "board "
   ]
  },
  {
   "cell_type": "code",
   "execution_count": 3,
   "metadata": {},
   "outputs": [
    {
     "data": {
      "text/plain": [
       "array([['5', '6', '.', '8', '4', '7', '.', '.', '.'],\n",
       "       ['3', '.', '9', '.', '.', '.', '6', '.', '.'],\n",
       "       ['.', '.', '8', '.', '.', '.', '.', '.', '.'],\n",
       "       ['.', '1', '.', '.', '8', '.', '.', '4', '.'],\n",
       "       ['7', '9', '.', '6', '.', '2', '.', '1', '8'],\n",
       "       ['.', '5', '.', '.', '3', '.', '.', '9', '.'],\n",
       "       ['.', '.', '.', '.', '.', '.', '2', '.', '.'],\n",
       "       ['.', '.', '6', '.', '.', '.', '8', '.', '7'],\n",
       "       ['.', '.', '.', '3', '1', '6', '.', '5', '9']], dtype='<U1')"
      ]
     },
     "execution_count": 3,
     "metadata": {},
     "output_type": "execute_result"
    }
   ],
   "source": [
    "board.transpose()"
   ]
  },
  {
   "cell_type": "code",
   "execution_count": 4,
   "metadata": {},
   "outputs": [
    {
     "data": {
      "text/plain": [
       "array([['5', '3', '.', '.', '7', '.', '.', '.', '.'],\n",
       "       ['6', '.', '.', '1', '9', '5', '.', '.', '.'],\n",
       "       ['.', '9', '8', '.', '.', '.', '.', '6', '.'],\n",
       "       ['8', '.', '.', '.', '6', '.', '.', '.', '3'],\n",
       "       ['4', '.', '.', '8', '.', '3', '.', '.', '1'],\n",
       "       ['7', '.', '.', '.', '2', '.', '.', '.', '6'],\n",
       "       ['.', '6', '.', '.', '.', '.', '2', '8', '.'],\n",
       "       ['.', '.', '.', '4', '1', '9', '.', '.', '5'],\n",
       "       ['.', '.', '.', '.', '8', '.', '.', '7', '9']], dtype='<U1')"
      ]
     },
     "execution_count": 4,
     "metadata": {},
     "output_type": "execute_result"
    }
   ],
   "source": [
    "board"
   ]
  },
  {
   "cell_type": "code",
   "execution_count": 5,
   "metadata": {},
   "outputs": [
    {
     "data": {
      "text/plain": [
       "array([['5', '3', '.', '.', '7', '.', '.', '.', '.'],\n",
       "       ['6', '.', '.', '1', '9', '5', '.', '.', '.'],\n",
       "       ['.', '9', '8', '.', '.', '.', '.', '6', '.']], dtype='<U1')"
      ]
     },
     "execution_count": 5,
     "metadata": {},
     "output_type": "execute_result"
    }
   ],
   "source": [
    "board[:3]"
   ]
  },
  {
   "cell_type": "code",
   "execution_count": 6,
   "metadata": {},
   "outputs": [
    {
     "data": {
      "text/plain": [
       "array([['5', '3', '.'],\n",
       "       ['6', '.', '.'],\n",
       "       ['.', '9', '8']], dtype='<U1')"
      ]
     },
     "execution_count": 6,
     "metadata": {},
     "output_type": "execute_result"
    }
   ],
   "source": [
    "board[:3,:3]"
   ]
  },
  {
   "cell_type": "code",
   "execution_count": 7,
   "metadata": {},
   "outputs": [
    {
     "data": {
      "text/plain": [
       "array([['.', '6', '.'],\n",
       "       ['8', '.', '3'],\n",
       "       ['.', '2', '.']], dtype='<U1')"
      ]
     },
     "execution_count": 7,
     "metadata": {},
     "output_type": "execute_result"
    }
   ],
   "source": [
    "board[3:6,3:6]"
   ]
  },
  {
   "cell_type": "code",
   "execution_count": 8,
   "metadata": {},
   "outputs": [
    {
     "ename": "TypeError",
     "evalue": "list indices must be integers or slices, not tuple",
     "output_type": "error",
     "traceback": [
      "\u001b[1;31m---------------------------------------------------------------------------\u001b[0m",
      "\u001b[1;31mTypeError\u001b[0m                                 Traceback (most recent call last)",
      "Cell \u001b[1;32mIn[8], line 2\u001b[0m\n\u001b[0;32m      1\u001b[0m test \u001b[38;5;241m=\u001b[39m [[\u001b[38;5;124m\"\u001b[39m\u001b[38;5;124m5\u001b[39m\u001b[38;5;124m\"\u001b[39m,\u001b[38;5;124m\"\u001b[39m\u001b[38;5;124m3\u001b[39m\u001b[38;5;124m\"\u001b[39m,\u001b[38;5;124m\"\u001b[39m\u001b[38;5;124m.\u001b[39m\u001b[38;5;124m\"\u001b[39m,\u001b[38;5;124m\"\u001b[39m\u001b[38;5;124m.\u001b[39m\u001b[38;5;124m\"\u001b[39m,\u001b[38;5;124m\"\u001b[39m\u001b[38;5;124m7\u001b[39m\u001b[38;5;124m\"\u001b[39m,\u001b[38;5;124m\"\u001b[39m\u001b[38;5;124m.\u001b[39m\u001b[38;5;124m\"\u001b[39m,\u001b[38;5;124m\"\u001b[39m\u001b[38;5;124m.\u001b[39m\u001b[38;5;124m\"\u001b[39m,\u001b[38;5;124m\"\u001b[39m\u001b[38;5;124m.\u001b[39m\u001b[38;5;124m\"\u001b[39m,\u001b[38;5;124m\"\u001b[39m\u001b[38;5;124m.\u001b[39m\u001b[38;5;124m\"\u001b[39m],[\u001b[38;5;124m\"\u001b[39m\u001b[38;5;124m6\u001b[39m\u001b[38;5;124m\"\u001b[39m,\u001b[38;5;124m\"\u001b[39m\u001b[38;5;124m.\u001b[39m\u001b[38;5;124m\"\u001b[39m,\u001b[38;5;124m\"\u001b[39m\u001b[38;5;124m.\u001b[39m\u001b[38;5;124m\"\u001b[39m,\u001b[38;5;124m\"\u001b[39m\u001b[38;5;124m1\u001b[39m\u001b[38;5;124m\"\u001b[39m,\u001b[38;5;124m\"\u001b[39m\u001b[38;5;124m9\u001b[39m\u001b[38;5;124m\"\u001b[39m,\u001b[38;5;124m\"\u001b[39m\u001b[38;5;124m5\u001b[39m\u001b[38;5;124m\"\u001b[39m,\u001b[38;5;124m\"\u001b[39m\u001b[38;5;124m.\u001b[39m\u001b[38;5;124m\"\u001b[39m,\u001b[38;5;124m\"\u001b[39m\u001b[38;5;124m.\u001b[39m\u001b[38;5;124m\"\u001b[39m,\u001b[38;5;124m\"\u001b[39m\u001b[38;5;124m.\u001b[39m\u001b[38;5;124m\"\u001b[39m],[\u001b[38;5;124m\"\u001b[39m\u001b[38;5;124m.\u001b[39m\u001b[38;5;124m\"\u001b[39m,\u001b[38;5;124m\"\u001b[39m\u001b[38;5;124m9\u001b[39m\u001b[38;5;124m\"\u001b[39m,\u001b[38;5;124m\"\u001b[39m\u001b[38;5;124m8\u001b[39m\u001b[38;5;124m\"\u001b[39m,\u001b[38;5;124m\"\u001b[39m\u001b[38;5;124m.\u001b[39m\u001b[38;5;124m\"\u001b[39m,\u001b[38;5;124m\"\u001b[39m\u001b[38;5;124m.\u001b[39m\u001b[38;5;124m\"\u001b[39m,\u001b[38;5;124m\"\u001b[39m\u001b[38;5;124m.\u001b[39m\u001b[38;5;124m\"\u001b[39m,\u001b[38;5;124m\"\u001b[39m\u001b[38;5;124m.\u001b[39m\u001b[38;5;124m\"\u001b[39m,\u001b[38;5;124m\"\u001b[39m\u001b[38;5;124m6\u001b[39m\u001b[38;5;124m\"\u001b[39m,\u001b[38;5;124m\"\u001b[39m\u001b[38;5;124m.\u001b[39m\u001b[38;5;124m\"\u001b[39m],[\u001b[38;5;124m\"\u001b[39m\u001b[38;5;124m8\u001b[39m\u001b[38;5;124m\"\u001b[39m,\u001b[38;5;124m\"\u001b[39m\u001b[38;5;124m.\u001b[39m\u001b[38;5;124m\"\u001b[39m,\u001b[38;5;124m\"\u001b[39m\u001b[38;5;124m.\u001b[39m\u001b[38;5;124m\"\u001b[39m,\u001b[38;5;124m\"\u001b[39m\u001b[38;5;124m.\u001b[39m\u001b[38;5;124m\"\u001b[39m,\u001b[38;5;124m\"\u001b[39m\u001b[38;5;124m6\u001b[39m\u001b[38;5;124m\"\u001b[39m,\u001b[38;5;124m\"\u001b[39m\u001b[38;5;124m.\u001b[39m\u001b[38;5;124m\"\u001b[39m,\u001b[38;5;124m\"\u001b[39m\u001b[38;5;124m.\u001b[39m\u001b[38;5;124m\"\u001b[39m,\u001b[38;5;124m\"\u001b[39m\u001b[38;5;124m.\u001b[39m\u001b[38;5;124m\"\u001b[39m,\u001b[38;5;124m\"\u001b[39m\u001b[38;5;124m3\u001b[39m\u001b[38;5;124m\"\u001b[39m],[\u001b[38;5;124m\"\u001b[39m\u001b[38;5;124m4\u001b[39m\u001b[38;5;124m\"\u001b[39m,\u001b[38;5;124m\"\u001b[39m\u001b[38;5;124m.\u001b[39m\u001b[38;5;124m\"\u001b[39m,\u001b[38;5;124m\"\u001b[39m\u001b[38;5;124m.\u001b[39m\u001b[38;5;124m\"\u001b[39m,\u001b[38;5;124m\"\u001b[39m\u001b[38;5;124m8\u001b[39m\u001b[38;5;124m\"\u001b[39m,\u001b[38;5;124m\"\u001b[39m\u001b[38;5;124m.\u001b[39m\u001b[38;5;124m\"\u001b[39m,\u001b[38;5;124m\"\u001b[39m\u001b[38;5;124m3\u001b[39m\u001b[38;5;124m\"\u001b[39m,\u001b[38;5;124m\"\u001b[39m\u001b[38;5;124m.\u001b[39m\u001b[38;5;124m\"\u001b[39m,\u001b[38;5;124m\"\u001b[39m\u001b[38;5;124m.\u001b[39m\u001b[38;5;124m\"\u001b[39m,\u001b[38;5;124m\"\u001b[39m\u001b[38;5;124m1\u001b[39m\u001b[38;5;124m\"\u001b[39m],[\u001b[38;5;124m\"\u001b[39m\u001b[38;5;124m7\u001b[39m\u001b[38;5;124m\"\u001b[39m,\u001b[38;5;124m\"\u001b[39m\u001b[38;5;124m.\u001b[39m\u001b[38;5;124m\"\u001b[39m,\u001b[38;5;124m\"\u001b[39m\u001b[38;5;124m.\u001b[39m\u001b[38;5;124m\"\u001b[39m,\u001b[38;5;124m\"\u001b[39m\u001b[38;5;124m.\u001b[39m\u001b[38;5;124m\"\u001b[39m,\u001b[38;5;124m\"\u001b[39m\u001b[38;5;124m2\u001b[39m\u001b[38;5;124m\"\u001b[39m,\u001b[38;5;124m\"\u001b[39m\u001b[38;5;124m.\u001b[39m\u001b[38;5;124m\"\u001b[39m,\u001b[38;5;124m\"\u001b[39m\u001b[38;5;124m.\u001b[39m\u001b[38;5;124m\"\u001b[39m,\u001b[38;5;124m\"\u001b[39m\u001b[38;5;124m.\u001b[39m\u001b[38;5;124m\"\u001b[39m,\u001b[38;5;124m\"\u001b[39m\u001b[38;5;124m6\u001b[39m\u001b[38;5;124m\"\u001b[39m],[\u001b[38;5;124m\"\u001b[39m\u001b[38;5;124m.\u001b[39m\u001b[38;5;124m\"\u001b[39m,\u001b[38;5;124m\"\u001b[39m\u001b[38;5;124m6\u001b[39m\u001b[38;5;124m\"\u001b[39m,\u001b[38;5;124m\"\u001b[39m\u001b[38;5;124m.\u001b[39m\u001b[38;5;124m\"\u001b[39m,\u001b[38;5;124m\"\u001b[39m\u001b[38;5;124m.\u001b[39m\u001b[38;5;124m\"\u001b[39m,\u001b[38;5;124m\"\u001b[39m\u001b[38;5;124m.\u001b[39m\u001b[38;5;124m\"\u001b[39m,\u001b[38;5;124m\"\u001b[39m\u001b[38;5;124m.\u001b[39m\u001b[38;5;124m\"\u001b[39m,\u001b[38;5;124m\"\u001b[39m\u001b[38;5;124m2\u001b[39m\u001b[38;5;124m\"\u001b[39m,\u001b[38;5;124m\"\u001b[39m\u001b[38;5;124m8\u001b[39m\u001b[38;5;124m\"\u001b[39m,\u001b[38;5;124m\"\u001b[39m\u001b[38;5;124m.\u001b[39m\u001b[38;5;124m\"\u001b[39m],[\u001b[38;5;124m\"\u001b[39m\u001b[38;5;124m.\u001b[39m\u001b[38;5;124m\"\u001b[39m,\u001b[38;5;124m\"\u001b[39m\u001b[38;5;124m.\u001b[39m\u001b[38;5;124m\"\u001b[39m,\u001b[38;5;124m\"\u001b[39m\u001b[38;5;124m.\u001b[39m\u001b[38;5;124m\"\u001b[39m,\u001b[38;5;124m\"\u001b[39m\u001b[38;5;124m4\u001b[39m\u001b[38;5;124m\"\u001b[39m,\u001b[38;5;124m\"\u001b[39m\u001b[38;5;124m1\u001b[39m\u001b[38;5;124m\"\u001b[39m,\u001b[38;5;124m\"\u001b[39m\u001b[38;5;124m9\u001b[39m\u001b[38;5;124m\"\u001b[39m,\u001b[38;5;124m\"\u001b[39m\u001b[38;5;124m.\u001b[39m\u001b[38;5;124m\"\u001b[39m,\u001b[38;5;124m\"\u001b[39m\u001b[38;5;124m.\u001b[39m\u001b[38;5;124m\"\u001b[39m,\u001b[38;5;124m\"\u001b[39m\u001b[38;5;124m5\u001b[39m\u001b[38;5;124m\"\u001b[39m],[\u001b[38;5;124m\"\u001b[39m\u001b[38;5;124m.\u001b[39m\u001b[38;5;124m\"\u001b[39m,\u001b[38;5;124m\"\u001b[39m\u001b[38;5;124m.\u001b[39m\u001b[38;5;124m\"\u001b[39m,\u001b[38;5;124m\"\u001b[39m\u001b[38;5;124m.\u001b[39m\u001b[38;5;124m\"\u001b[39m,\u001b[38;5;124m\"\u001b[39m\u001b[38;5;124m.\u001b[39m\u001b[38;5;124m\"\u001b[39m,\u001b[38;5;124m\"\u001b[39m\u001b[38;5;124m8\u001b[39m\u001b[38;5;124m\"\u001b[39m,\u001b[38;5;124m\"\u001b[39m\u001b[38;5;124m.\u001b[39m\u001b[38;5;124m\"\u001b[39m,\u001b[38;5;124m\"\u001b[39m\u001b[38;5;124m.\u001b[39m\u001b[38;5;124m\"\u001b[39m,\u001b[38;5;124m\"\u001b[39m\u001b[38;5;124m7\u001b[39m\u001b[38;5;124m\"\u001b[39m,\u001b[38;5;124m\"\u001b[39m\u001b[38;5;124m9\u001b[39m\u001b[38;5;124m\"\u001b[39m]]\n\u001b[1;32m----> 2\u001b[0m test[:\u001b[38;5;241m3\u001b[39m,:\u001b[38;5;241m3\u001b[39m]\n",
      "\u001b[1;31mTypeError\u001b[0m: list indices must be integers or slices, not tuple"
     ]
    }
   ],
   "source": [
    "test = [[\"5\",\"3\",\".\",\".\",\"7\",\".\",\".\",\".\",\".\"],[\"6\",\".\",\".\",\"1\",\"9\",\"5\",\".\",\".\",\".\"],[\".\",\"9\",\"8\",\".\",\".\",\".\",\".\",\"6\",\".\"],[\"8\",\".\",\".\",\".\",\"6\",\".\",\".\",\".\",\"3\"],[\"4\",\".\",\".\",\"8\",\".\",\"3\",\".\",\".\",\"1\"],[\"7\",\".\",\".\",\".\",\"2\",\".\",\".\",\".\",\"6\"],[\".\",\"6\",\".\",\".\",\".\",\".\",\"2\",\"8\",\".\"],[\".\",\".\",\".\",\"4\",\"1\",\"9\",\".\",\".\",\"5\"],[\".\",\".\",\".\",\".\",\"8\",\".\",\".\",\"7\",\"9\"]]\n",
    "test[:3,:3]"
   ]
  },
  {
   "cell_type": "code",
   "execution_count": 10,
   "metadata": {},
   "outputs": [
    {
     "data": {
      "text/plain": [
       "array([['.', '6', '.'],\n",
       "       ['8', '.', '3'],\n",
       "       ['.', '2', '.']], dtype='<U1')"
      ]
     },
     "execution_count": 10,
     "metadata": {},
     "output_type": "execute_result"
    }
   ],
   "source": [
    "board_4 = board[3:6,3:6]\n",
    "board_4"
   ]
  },
  {
   "cell_type": "code",
   "execution_count": 14,
   "metadata": {},
   "outputs": [
    {
     "data": {
      "text/plain": [
       "array([['.', '6', '.'],\n",
       "       ['8', '7', '3'],\n",
       "       ['.', '2', '.']], dtype='<U1')"
      ]
     },
     "execution_count": 14,
     "metadata": {},
     "output_type": "execute_result"
    }
   ],
   "source": [
    "board[4][4] = 7 \n",
    "board[3:6,3:6]"
   ]
  },
  {
   "cell_type": "code",
   "execution_count": 15,
   "metadata": {},
   "outputs": [
    {
     "data": {
      "text/plain": [
       "array([['.', '6', '.'],\n",
       "       ['8', '7', '3'],\n",
       "       ['.', '2', '.']], dtype='<U1')"
      ]
     },
     "execution_count": 15,
     "metadata": {},
     "output_type": "execute_result"
    }
   ],
   "source": [
    "board_4"
   ]
  },
  {
   "cell_type": "code",
   "execution_count": null,
   "metadata": {},
   "outputs": [],
   "source": [
    "for i in range(len(board)):\n",
    "    for j in range(len(board[0])):\n",
    "        if i<=3 :\n",
    "            box_1 = 0\n",
    "        elif i<=6 :\n",
    "            box_1 = 3\n",
    "        else:\n",
    "            box_1 = 6\n",
    "        if j<=3 :\n",
    "            box_2 = 0\n",
    "        elif j<=6 :\n",
    "            box_2 = 3\n",
    "        else:\n",
    "            box_2 = 6\n",
    "        "
   ]
  },
  {
   "cell_type": "code",
   "execution_count": 16,
   "metadata": {},
   "outputs": [],
   "source": [
    "temp = {1_3:'44'}\n"
   ]
  },
  {
   "cell_type": "code",
   "execution_count": 17,
   "metadata": {},
   "outputs": [
    {
     "data": {
      "text/plain": [
       "'44'"
      ]
     },
     "execution_count": 17,
     "metadata": {},
     "output_type": "execute_result"
    }
   ],
   "source": [
    "temp[1_3]"
   ]
  },
  {
   "cell_type": "code",
   "execution_count": 18,
   "metadata": {},
   "outputs": [
    {
     "data": {
      "text/plain": [
       "{13: '44', '4_3': 'kabali'}"
      ]
     },
     "execution_count": 18,
     "metadata": {},
     "output_type": "execute_result"
    }
   ],
   "source": [
    "i,j=4,3\n",
    "temp[f\"{i}_{j}\"] ='kabali'\n",
    "temp"
   ]
  },
  {
   "cell_type": "code",
   "execution_count": 20,
   "metadata": {},
   "outputs": [],
   "source": [
    "temp = [1,2,3,4,5,6]\n",
    "temp = np.array(temp)\n",
    "if 4 not in temp and 5 not in temp:\n",
    "    print(\"Fine\")"
   ]
  },
  {
   "cell_type": "code",
   "execution_count": 21,
   "metadata": {},
   "outputs": [
    {
     "name": "stdout",
     "output_type": "stream",
     "text": [
      "Number is present in the array\n"
     ]
    }
   ],
   "source": [
    "import numpy as np\n",
    "\n",
    "arr = np.array([1, 2, 3, 4, 5])\n",
    "number = 3\n",
    "\n",
    "if np.isin(number, arr):\n",
    "    print(\"Number is present in the array\")\n",
    "else:\n",
    "    print(\"Number is not present in the array\")\n"
   ]
  },
  {
   "cell_type": "code",
   "execution_count": 4,
   "metadata": {},
   "outputs": [
    {
     "name": "stdout",
     "output_type": "stream",
     "text": [
      "kabali da\n"
     ]
    }
   ],
   "source": [
    "number = 7\n",
    "box = [1,2,3,4,5,6,3,2,3]\n",
    "row = [1,2,3,3,3,3,3,4]\n",
    "col = [1,2,3,5,6,3,2,3]\n",
    "if (number not in box) and (number not in row) and (number not in col):\n",
    "    print(\"kabali da\")"
   ]
  },
  {
   "cell_type": "code",
   "execution_count": 5,
   "metadata": {},
   "outputs": [
    {
     "data": {
      "text/plain": [
       "False"
      ]
     },
     "execution_count": 5,
     "metadata": {},
     "output_type": "execute_result"
    }
   ],
   "source": [
    "3<3"
   ]
  },
  {
   "cell_type": "code",
   "execution_count": null,
   "metadata": {},
   "outputs": [],
   "source": [
    "import numpy as np\n",
    "class Solution:\n",
    "    def find_box(self,i,j):\n",
    "        if i<3 :\n",
    "            box_1 = 0\n",
    "        elif i<6 :\n",
    "            box_1 = 3\n",
    "        else:\n",
    "            box_1 = 6\n",
    "        if j<3 :\n",
    "            box_2 = 0\n",
    "        elif j<6 :\n",
    "            box_2 = 3\n",
    "        else:\n",
    "            box_2 = 6\n",
    "        return box_1,box_2\n",
    "    def check_status(self,i,j,number):\n",
    "        box_1,box_2, = self.find_box(i,j)\n",
    "        box = self.board_row[box_1:box_1+3,box_2:box_2+3].flatten().tolist()\n",
    "        row = self.board_row[i].tolist()\n",
    "        col = self.board_column[j].tolist()\n",
    "        if (number in box) or (number in row) or (number in col):\n",
    "            return False\n",
    "        return True\n",
    "    def solveSudoku(self, board):\n",
    "        self.board_row = np.array(board)\n",
    "        self.board_column = self.board_row.transpose()\n",
    "        self.needed_dict = {}\n",
    "        for i in range(len(board)):\n",
    "            for j in range(len(board[0])):\n",
    "                if self.board_row[i][j] == \".\":\n",
    "                    self.needed_dict[f\"{i}_{j}\"] = []\n",
    "                    for l in range(1,10):\n",
    "                        if self.check_status(i,j,str(l)):\n",
    "                            self.needed_dict[f\"{i}_{j}\"].append(l)\n",
    "        for i in self.needed_dict:\n",
    "            print(i,\" : \",self.needed_dict[i])\n",
    "\n",
    "Solution().solveSudoku(board=[[\"5\",\"3\",\".\",\".\",\"7\",\".\",\".\",\".\",\".\"],\n",
    "                              [\"6\",\".\",\".\",\"1\",\"9\",\"5\",\".\",\".\",\".\"],\n",
    "                              [\".\",\"9\",\"8\",\".\",\".\",\".\",\".\",\"6\",\".\"],\n",
    "                              [\"8\",\".\",\".\",\".\",\"6\",\".\",\".\",\".\",\"3\"],\n",
    "                              [\"4\",\".\",\".\",\"8\",\".\",\"3\",\".\",\".\",\"1\"],\n",
    "                              [\"7\",\".\",\".\",\".\",\"2\",\".\",\".\",\".\",\"6\"],\n",
    "                              [\".\",\"6\",\".\",\".\",\".\",\".\",\"2\",\"8\",\".\"],\n",
    "                              [\".\",\".\",\".\",\"4\",\"1\",\"9\",\".\",\".\",\"5\"],\n",
    "                              [\".\",\".\",\".\",\".\",\"8\",\".\",\".\",\"7\",\"9\"]])"
   ]
  },
  {
   "cell_type": "markdown",
   "metadata": {},
   "source": [
    "Working code "
   ]
  },
  {
   "cell_type": "code",
   "execution_count": null,
   "metadata": {},
   "outputs": [],
   "source": [
    "import numpy as np\n",
    "class Solution:\n",
    "    def find_box(self,i,j):\n",
    "        if i<3 :\n",
    "            box_1 = 0\n",
    "        elif i<6 :\n",
    "            box_1 = 3\n",
    "        else:\n",
    "            box_1 = 6\n",
    "        if j<3 :\n",
    "            box_2 = 0\n",
    "        elif j<6 :\n",
    "            box_2 = 3\n",
    "        else:\n",
    "            box_2 = 6\n",
    "        return box_1,box_2\n",
    "    def remove_dots(self):\n",
    "        for i in self.board_row:\n",
    "            for j in i:\n",
    "                if j==\".\":\n",
    "                    return True\n",
    "        return False\n",
    "    def check_status(self,i,j,number):\n",
    "        box_1,box_2, = self.find_box(i,j)\n",
    "        box = self.board_row[box_1:box_1+3,box_2:box_2+3].flatten().tolist()\n",
    "        row = self.board_row[i].tolist()\n",
    "        col = self.board_column[j].tolist()\n",
    "        if (number in box) or (number in row) or (number in col):\n",
    "            return False\n",
    "        return True\n",
    "    def solveSudoku(self, board):\n",
    "        self.board_row = np.array(board)\n",
    "        self.board_column = self.board_row.transpose()\n",
    "        self.needed_dict = {}\n",
    "        while self.remove_dots():\n",
    "            for i in range(len(board)):\n",
    "                for j in range(len(board[0])):\n",
    "                    if self.board_row[i][j] == \".\":\n",
    "                        self.needed_dict[f\"{i}_{j}\"] = []\n",
    "                        for l in range(1,10):\n",
    "                            if self.check_status(i,j,str(l)):\n",
    "                                self.needed_dict[f\"{i}_{j}\"].append(l)\n",
    "                        if len(self.needed_dict[f\"{i}_{j}\"]) == 1:\n",
    "                            self.board_row[i][j] =self.needed_dict[f\"{i}_{j}\"][0]\n",
    "            # for i in self.needed_dict:\n",
    "            #     print(i,\" : \",self.needed_dict[i])\n",
    "        for i in self.board_row:\n",
    "            print(i)\n",
    "\n",
    "Solution().solveSudoku(board=[[\"5\",\"3\",\".\",\".\",\"7\",\".\",\".\",\".\",\".\"],\n",
    "                              [\"6\",\".\",\".\",\"1\",\"9\",\"5\",\".\",\".\",\".\"],\n",
    "                              [\".\",\"9\",\"8\",\".\",\".\",\".\",\".\",\"6\",\".\"],\n",
    "                              [\"8\",\".\",\".\",\".\",\"6\",\".\",\".\",\".\",\"3\"],\n",
    "                              [\"4\",\".\",\".\",\"8\",\".\",\"3\",\".\",\".\",\"1\"],\n",
    "                              [\"7\",\".\",\".\",\".\",\"2\",\".\",\".\",\".\",\"6\"],\n",
    "                              [\".\",\"6\",\".\",\".\",\".\",\".\",\"2\",\"8\",\".\"],\n",
    "                              [\".\",\".\",\".\",\"4\",\"1\",\"9\",\".\",\".\",\"5\"],\n",
    "                              [\".\",\".\",\".\",\".\",\"8\",\".\",\".\",\"7\",\"9\"]])\n"
   ]
  },
  {
   "cell_type": "code",
   "execution_count": 6,
   "metadata": {},
   "outputs": [
    {
     "name": "stdout",
     "output_type": "stream",
     "text": [
      "['2', '2', '2', '2', '2', '2', '2', '2']\n",
      "['2', '2', '2', '2', '2', '2', '2', '2']\n",
      "['3', '3', '3', '3', '3', '3', '3', '3']\n",
      "['4', '4', '4', '4', '4', '4', '4', '4']\n",
      "['3', '3', '3', '3', '3', '3', '3', '3']\n",
      "['.', '.', '.', '.', '.', '.', '.', '.']\n",
      "['2', '2', '2', '2', '2', '2', '2', '2']\n",
      "['3', '3', '3', '3', '3', '3', '3', '3']\n",
      "['2', '2', '2', '2', '2', '2', '2', '2']\n",
      "['3', '3', '3', '3', '3', '3', '3', '3']\n",
      "['2', '2', '2', '2', '2', '2', '2', '2']\n",
      "['3', '3', '3', '3', '3', '3', '3', '3']\n",
      "['4', '4', '4', '4', '4', '4', '4', '4']\n",
      "['5', '5', '5', '5', '5', '5', '5', '5']\n",
      "['2', '2', '2', '2', '2', '2', '2', '2']\n",
      "['3', '3', '3', '3', '3', '3', '3', '3']\n",
      "['.', '.', '.', '.', '.', '.', '.', '.']\n",
      "['2', '2', '2', '2', '2', '2', '2', '2']\n",
      "['3', '3', '3', '3', '3', '3', '3', '3']\n",
      "['4', '4', '4', '4', '4', '4', '4', '4']\n",
      "['3', '3', '3', '3', '3', '3', '3', '3']\n",
      "['.', '.', '.', '.', '.', '.', '.', '.']\n",
      "['5', '5', '5', '5', '5', '5', '5', '5']\n",
      "['.', '.', '.', '.', '.', '.', '.', '.']\n",
      "['3', '3', '3', '3', '3', '3', '3', '3']\n",
      "['4', '4', '4', '4', '4', '4', '4', '4']\n",
      "['.', '.', '.', '.', '.', '.', '.', '.']\n",
      "['3', '3', '3', '3', '3', '3', '3', '3']\n"
     ]
    }
   ],
   "source": [
    "given = input()\n",
    "board =[]\n",
    "for i in given:\n",
    "    temp = []\n",
    "    for j in range(8):\n",
    "        temp.append(i)\n",
    "    board.append(temp)\n",
    "    temp = []\n",
    "for i in board:\n",
    "    print(i)"
   ]
  },
  {
   "cell_type": "code",
   "execution_count": null,
   "metadata": {},
   "outputs": [],
   "source": [
    "given , board , count , temp  = \"1....527..5....8...4.92..53...6.298..2..91...79....6.25.41........267541...5.....\" , [], 0 , []\n",
    "for i in given:\n",
    "    temp.append(i)\n",
    "    if count ==8:\n",
    "        board.append(temp)\n",
    "        temp = []\n",
    "        count = -1\n",
    "    count += 1\n",
    "\n",
    "\n",
    "import numpy as np\n",
    "class Solution:\n",
    "    def find_box(self,i,j):\n",
    "        if i<3 :\n",
    "            box_1 = 0\n",
    "        elif i<6 :\n",
    "            box_1 = 3\n",
    "        else:\n",
    "            box_1 = 6\n",
    "        if j<3 :\n",
    "            box_2 = 0\n",
    "        elif j<6 :\n",
    "            box_2 = 3\n",
    "        else:\n",
    "            box_2 = 6\n",
    "        return box_1,box_2\n",
    "    def remove_dots(self):\n",
    "        for i in self.board_row:\n",
    "            for j in i:\n",
    "                if j==\".\":\n",
    "                    return True\n",
    "        return False\n",
    "    def check_status(self,i,j,number):\n",
    "        box_1,box_2, = self.find_box(i,j)\n",
    "        box = self.board_row[box_1:box_1+3,box_2:box_2+3].flatten().tolist()\n",
    "        row = self.board_row[i].tolist()\n",
    "        col = self.board_column[j].tolist()\n",
    "        if (number in box) or (number in row) or (number in col):\n",
    "            return False\n",
    "        return True\n",
    "    def solveSudoku(self, board):\n",
    "        self.board_row = np.array(board)\n",
    "        self.board_column = self.board_row.transpose()\n",
    "        self.needed_dict = {}\n",
    "        while self.remove_dots():\n",
    "            for i in range(len(board)):\n",
    "                for j in range(len(board[0])):\n",
    "                    if self.board_row[i][j] == \".\":\n",
    "                        self.needed_dict[f\"{i}_{j}\"] = []\n",
    "                        for l in range(1,10):\n",
    "                            if self.check_status(i,j,str(l)):\n",
    "                                self.needed_dict[f\"{i}_{j}\"].append(l)\n",
    "                        if len(self.needed_dict[f\"{i}_{j}\"]) == 1:\n",
    "                            self.board_row[i][j] =self.needed_dict[f\"{i}_{j}\"][0]\n",
    "            # for i in self.needed_dict:\n",
    "            #     print(i,\" : \",self.needed_dict[i])\n",
    "        for i in self.board_row:\n",
    "            print(i)\n",
    "for i in board:\n",
    "    print(i)\n",
    "Solution().solveSudoku(board=board)"
   ]
  },
  {
   "cell_type": "markdown",
   "metadata": {},
   "source": [
    "this is also a working code "
   ]
  },
  {
   "cell_type": "code",
   "execution_count": null,
   "metadata": {},
   "outputs": [],
   "source": [
    "class Solution:\n",
    "  def solveSudoku(self, board):\n",
    "    def isValid(row: int, col: int, c: str) -> bool:\n",
    "      for i in range(9):\n",
    "        if board[i][col] == c or \\\n",
    "           board[row][i] == c or \\\n",
    "           board[3 * (row // 3) + i // 3][3 * (col // 3) + i % 3] == c:\n",
    "          return False\n",
    "      return True\n",
    "\n",
    "    def solve(s: int) -> bool:\n",
    "      if s == 81:\n",
    "        return True\n",
    "\n",
    "      i = s // 9\n",
    "      j = s % 9\n",
    "\n",
    "      if board[i][j] != '.':\n",
    "        return solve(s + 1)\n",
    "\n",
    "      for c in string.digits[1:]:\n",
    "        if isValid(i, j, c):\n",
    "          board[i][j] = c\n",
    "          if solve(s + 1):\n",
    "            return True\n",
    "          board[i][j] = '.'\n",
    "\n",
    "      return False\n",
    "\n",
    "    solve(0)\n",
    "Solution().solveSudoku(board=[[\"5\",\"3\",\".\",\".\",\"7\",\".\",\".\",\".\",\".\"],\n",
    "                              [\"6\",\".\",\".\",\"1\",\"9\",\"5\",\".\",\".\",\".\"],\n",
    "                              [\".\",\"9\",\"8\",\".\",\".\",\".\",\".\",\"6\",\".\"],\n",
    "                              [\"8\",\".\",\".\",\".\",\"6\",\".\",\".\",\".\",\"3\"],\n",
    "                              [\"4\",\".\",\".\",\"8\",\".\",\"3\",\".\",\".\",\"1\"],\n",
    "                              [\"7\",\".\",\".\",\".\",\"2\",\".\",\".\",\".\",\"6\"],\n",
    "                              [\".\",\"6\",\".\",\".\",\".\",\".\",\"2\",\"8\",\".\"],\n",
    "                              [\".\",\".\",\".\",\"4\",\"1\",\"9\",\".\",\".\",\"5\"],\n",
    "                              [\".\",\".\",\".\",\".\",\"8\",\".\",\".\",\"7\",\"9\"]])"
   ]
  }
 ],
 "metadata": {
  "kernelspec": {
   "display_name": "base",
   "language": "python",
   "name": "python3"
  },
  "language_info": {
   "codemirror_mode": {
    "name": "ipython",
    "version": 3
   },
   "file_extension": ".py",
   "mimetype": "text/x-python",
   "name": "python",
   "nbconvert_exporter": "python",
   "pygments_lexer": "ipython3",
   "version": "3.11.7"
  }
 },
 "nbformat": 4,
 "nbformat_minor": 2
}
