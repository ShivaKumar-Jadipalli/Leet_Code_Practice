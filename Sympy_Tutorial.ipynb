{
 "cells": [
  {
   "cell_type": "code",
   "execution_count": 1,
   "metadata": {},
   "outputs": [
    {
     "name": "stdout",
     "output_type": "stream",
     "text": [
      "4.795831523312719\n",
      "sqrt(23)\n"
     ]
    }
   ],
   "source": [
    "import sympy \n",
    "import math \n",
    "print(math.sqrt(23))\n",
    "print(sympy.sqrt(23))"
   ]
  },
  {
   "cell_type": "code",
   "execution_count": 3,
   "metadata": {},
   "outputs": [
    {
     "data": {
      "text/latex": [
       "$\\displaystyle 2 x + y$"
      ],
      "text/plain": [
       "2*x + y"
      ]
     },
     "execution_count": 3,
     "metadata": {},
     "output_type": "execute_result"
    }
   ],
   "source": [
    "x , y = sympy.symbols(\"x\") , sympy.symbols(\"y\")\n",
    "equation = 2*x+y \n",
    "equation"
   ]
  },
  {
   "cell_type": "code",
   "execution_count": 6,
   "metadata": {},
   "outputs": [
    {
     "data": {
      "text/latex": [
       "$\\displaystyle x + y$"
      ],
      "text/plain": [
       "x + y"
      ]
     },
     "execution_count": 6,
     "metadata": {},
     "output_type": "execute_result"
    }
   ],
   "source": [
    "# let's remove an x from the equation \n",
    "equation-x"
   ]
  },
  {
   "cell_type": "markdown",
   "metadata": {},
   "source": [
    "factor = extracting the number which divides the number perfectly without leaving any remainder "
   ]
  },
  {
   "cell_type": "code",
   "execution_count": 7,
   "metadata": {},
   "outputs": [
    {
     "name": "stdout",
     "output_type": "stream",
     "text": [
      "2*x + 2*y\n",
      "2*(x + y)\n"
     ]
    }
   ],
   "source": [
    "eq_1 = 2*(x+y)\n",
    "print(eq_1) \n",
    "print(sympy.factor(eq_1))"
   ]
  },
  {
   "cell_type": "code",
   "execution_count": 8,
   "metadata": {},
   "outputs": [
    {
     "name": "stdout",
     "output_type": "stream",
     "text": [
      "x**2 + x*y\n",
      "x*(x + y)\n"
     ]
    }
   ],
   "source": [
    "eq_2 = x**2 + x*y\n",
    "print(eq_2)\n",
    "print(sympy.factor(eq_2))"
   ]
  },
  {
   "cell_type": "markdown",
   "metadata": {},
   "source": [
    "Expand = Opposite of factor "
   ]
  },
  {
   "cell_type": "code",
   "execution_count": 10,
   "metadata": {},
   "outputs": [
    {
     "name": "stdout",
     "output_type": "stream",
     "text": [
      "x**2 + x*y\n"
     ]
    }
   ],
   "source": [
    "eq_3 = x*(x+y)\n",
    "print(sympy.expand(eq_3))"
   ]
  },
  {
   "cell_type": "markdown",
   "metadata": {},
   "source": [
    "Differentiation"
   ]
  },
  {
   "cell_type": "code",
   "execution_count": 15,
   "metadata": {},
   "outputs": [
    {
     "name": "stdout",
     "output_type": "stream",
     "text": [
      "2*x + 5\n"
     ]
    }
   ],
   "source": [
    "print(sympy.diff(x**2+y**2+5*x+3*y+16,x)) # differentiate with respect to x "
   ]
  },
  {
   "cell_type": "code",
   "execution_count": 17,
   "metadata": {},
   "outputs": [
    {
     "name": "stdout",
     "output_type": "stream",
     "text": [
      "2*y + 3\n"
     ]
    }
   ],
   "source": [
    "print(sympy.diff(x**2+y**2+5*x+3*y+16,y))"
   ]
  },
  {
   "cell_type": "code",
   "execution_count": 1,
   "metadata": {},
   "outputs": [],
   "source": [
    "jj# I think I need to learn some integrals and limits before watching this video "
   ]
  },
  {
   "cell_type": "code",
   "execution_count": 5,
   "metadata": {},
   "outputs": [
    {
     "name": "stderr",
     "output_type": "stream",
     "text": [
      "c:\\ProgramData\\anaconda3\\Lib\\site-packages\\numba\\cuda\\cudadrv\\devicearray.py:886: NumbaPerformanceWarning: \u001b[1mHost array used in CUDA kernel will incur copy overhead to/from device.\u001b[0m\n",
      "  warn(NumbaPerformanceWarning(msg))\n"
     ]
    },
    {
     "name": "stdout",
     "output_type": "stream",
     "text": [
      "50847534\n"
     ]
    }
   ],
   "source": [
    "import numpy as np\n",
    "from numba import cuda\n",
    "\n",
    "@cuda.jit\n",
    "def sieve_kernel(is_prime, n):\n",
    "    idx = cuda.grid(1)\n",
    "    if idx < 2:\n",
    "        return\n",
    "    if is_prime[idx]:\n",
    "        for j in range(idx * idx, n, idx):\n",
    "            is_prime[j] = False\n",
    "\n",
    "def sieve_of_eratosthenes(n):\n",
    "    is_prime = np.ones(n, dtype=bool)\n",
    "    is_prime[:2] = False\n",
    "    threads_per_block = 128\n",
    "    blocks = (n + threads_per_block - 1) // threads_per_block\n",
    "    sieve_kernel[blocks, threads_per_block](is_prime, n)\n",
    "    cuda.synchronize()\n",
    "    return np.nonzero(is_prime)[0]\n",
    "\n",
    "n = 10**9  # Example to find primes up to 1,000,000\n",
    "primes = sieve_of_eratosthenes(n)\n",
    "print(len(primes))\n"
   ]
  },
  {
   "cell_type": "code",
   "execution_count": 2,
   "metadata": {},
   "outputs": [
    {
     "name": "stdout",
     "output_type": "stream",
     "text": [
      "5761455\n"
     ]
    }
   ],
   "source": [
    "def sieve_of_eratosthenes_cpu(n):\n",
    "    is_prime = [True] * n\n",
    "    is_prime[0] = is_prime[1] = False\n",
    "    for start in range(2, int(n**0.5) + 1):\n",
    "        if is_prime[start]:\n",
    "            for multiple in range(start*start, n, start):\n",
    "                is_prime[multiple] = False\n",
    "    return [num for num, prime in enumerate(is_prime) if prime]\n",
    "\n",
    "n = 10**8  # Example to find primes up to 1,000,000\n",
    "primes = sieve_of_eratosthenes_cpu(n)\n",
    "print(len(primes))\n"
   ]
  },
  {
   "cell_type": "code",
   "execution_count": null,
   "metadata": {},
   "outputs": [],
   "source": []
  }
 ],
 "metadata": {
  "kernelspec": {
   "display_name": "base",
   "language": "python",
   "name": "python3"
  },
  "language_info": {
   "codemirror_mode": {
    "name": "ipython",
    "version": 3
   },
   "file_extension": ".py",
   "mimetype": "text/x-python",
   "name": "python",
   "nbconvert_exporter": "python",
   "pygments_lexer": "ipython3",
   "version": "3.11.7"
  }
 },
 "nbformat": 4,
 "nbformat_minor": 2
}
