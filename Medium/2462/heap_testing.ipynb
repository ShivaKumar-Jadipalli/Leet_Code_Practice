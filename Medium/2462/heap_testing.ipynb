{
 "cells": [
  {
   "cell_type": "markdown",
   "metadata": {},
   "source": [
    "Just checking heap method to see if that approach works or not "
   ]
  },
  {
   "cell_type": "code",
   "execution_count": 1,
   "metadata": {},
   "outputs": [],
   "source": [
    "import heapq\n",
    "\n",
    "# Create a list and heapify it\n",
    "heap = [3, 1, 4, 1, 5, 9, 2, 6, 5, 3, 5]\n",
    "heapq.heapify(heap)  # Convert the list into a heap\n",
    "\n",
    "# Add a new element to the heap\n",
    "heapq.heappush(heap, 7)  # Time complexity is O(log n)\n"
   ]
  },
  {
   "cell_type": "code",
   "execution_count": 2,
   "metadata": {},
   "outputs": [
    {
     "data": {
      "text/plain": [
       "[1, 1, 2, 3, 3, 7, 4, 6, 5, 5, 5, 9]"
      ]
     },
     "execution_count": 2,
     "metadata": {},
     "output_type": "execute_result"
    }
   ],
   "source": [
    "heap"
   ]
  },
  {
   "cell_type": "markdown",
   "metadata": {},
   "source": [
    "Realised this method won't work "
   ]
  },
  {
   "cell_type": "code",
   "execution_count": 1,
   "metadata": {},
   "outputs": [
    {
     "name": "stdout",
     "output_type": "stream",
     "text": [
      "[19, 40, 85, 141, 232, 183, 267, 277, 278, 303, 14, 304, 333, 382, 384, 96, 18, 285, 399, 402, 419, 420, 452, 459, 460, 168, 171, 464, 468, 488, 302, 491, 512, 515, 552, 556, 442, 478, 209, 560, 563, 370, 568, 576, 51, 174, 97, 375, 595, 607, 643, 662, 537, 663, 191, 685, 705]\n"
     ]
    }
   ],
   "source": [
    "class Solution:\n",
    "    def totalCost(self, costs, k, candidates) :\n",
    "        answer = []\n",
    "        for loop in range(k):\n",
    "            costs_len = len(costs)\n",
    "            if costs_len > 2*candidates:\n",
    "                first_group , second_group,remaining = costs[:candidates] , costs[-candidates:] , costs[candidates:-candidates]\n",
    "                first_min , second_min = min(first_group) , min(second_group)  \n",
    "            elif costs_len <= candidates:\n",
    "                first_group , second_group , remaining = costs , [],[]\n",
    "                first_min , second_min = min(first_group) , float('inf')\n",
    "            else: \n",
    "                first_group , second_group,remaining = costs[:candidates] , costs[-(costs_len-candidates):] , []\n",
    "                first_min , second_min = min(first_group) , min(second_group)  \n",
    "            if first_min < second_min:\n",
    "                answer.append(first_min)\n",
    "                first_group.pop(first_group.index(first_min))\n",
    "            elif first_min > second_min:\n",
    "                answer.append(second_min)\n",
    "                second_group.pop(second_group.index(second_min))\n",
    "            else:\n",
    "                answer.append(first_min)\n",
    "                first_group.pop(first_group.index(first_min))\n",
    "            costs = first_group+remaining+second_group\n",
    "        return answer\n",
    "\n",
    "print(Solution().totalCost([515,705,303,791,304,382,756,957,402,399,743,919,568,141,894,488,14,452,459,930,981,662,464,663,576,302,720,855,838,51,174,97,375,813,537,750,191,991,915,972,908,370,758,864,209,478,442,685,552,717,860,996,171,168,560,595,460,285,18,96,970,746,512,420,844,183,607,267,40,491,232,278,751,277,19,419,384,85,563,556,643,896,333,468],57,15))\n"
   ]
  },
  {
   "cell_type": "markdown",
   "metadata": {},
   "source": [
    "This approach is not working cause pop is taking too much time complexity "
   ]
  },
  {
   "cell_type": "code",
   "execution_count": 3,
   "metadata": {},
   "outputs": [],
   "source": [
    "test = [515,705,303,791,304,382,756,957,402,399,743,919,568,141,894,488,14,452,459,930,981,662,464,663,576,302,720,855,838,51,174,97,375,813,537,750,191,991,915,972,908,370,758,864,209,478,442,685,552,717,860,996,171,168,560,595,460,285,18,96,970,746,512,420,844,183,607,267,40,491,232,278,751,277,19,419,384,85,563,556,643,896,333,468]\n",
    "test.sort()"
   ]
  },
  {
   "cell_type": "code",
   "execution_count": 5,
   "metadata": {},
   "outputs": [
    {
     "name": "stdout",
     "output_type": "stream",
     "text": [
      "[14, 18, 19, 40, 51, 85, 96, 97, 141, 168, 171, 174, 183, 191, 209, 232, 267, 277, 278, 285, 302, 303, 304, 333, 370, 375, 382, 384, 399, 402, 419, 420, 442, 452, 459, 460, 464, 468, 478, 488, 491, 512, 515, 537, 552, 556, 560, 563, 568, 576, 595, 607, 643, 662, 663, 685, 705]\n"
     ]
    }
   ],
   "source": [
    "print([*test[:57]],sep=',')"
   ]
  },
  {
   "cell_type": "code",
   "execution_count": 2,
   "metadata": {},
   "outputs": [],
   "source": [
    "sorted_list = [19, 40, 85, 141, 232, 183, 267, 277, 278, 303, 14, 304, 333, 382, 384, 96, 18, 285, 399, 402, 419, 420, 452, 459, 460, 168, 171, 464, 468, 488, 302, 491, 512, 515, 552, 556, 442, 478, 209, 560, 563, 370, 568, 576, 51, 174, 97, 375, 595, 607, 643, 662, 537, 663, 191, 685, 705]\n",
    "test_1 = [515,705,303,791,304,382,756,957,402,399,743,919,568,141,894,488,14,452,459,930,981,662,464,663,576,302,720,855,838,51,174,97,375,813,537,750,191,991,915,972,908,370,758,864,209,478,442,685,552,717,860,996,171,168,560,595,460,285,18,96,970,746,512,420,844,183,607,267,40,491,232,278,751,277,19,419,384,85,563,556,643,896,333,468]\n",
    "result_dict ={}\n",
    "count = 0\n",
    "for i in sorted_list:\n",
    "    for j in range(len(test_1)):\n",
    "        if test_1[j] == i :\n",
    "            test_1[j]='inf'\n",
    "    changed_name = f\"changed_{count}\"\n",
    "    count+=1\n",
    "    result_dict[changed_name]=test_1"
   ]
  },
  {
   "cell_type": "code",
   "execution_count": 3,
   "metadata": {},
   "outputs": [
    {
     "data": {
      "text/plain": [
       "dict_keys(['changed_0', 'changed_1', 'changed_2', 'changed_3', 'changed_4', 'changed_5', 'changed_6', 'changed_7', 'changed_8', 'changed_9', 'changed_10', 'changed_11', 'changed_12', 'changed_13', 'changed_14', 'changed_15', 'changed_16', 'changed_17', 'changed_18', 'changed_19', 'changed_20', 'changed_21', 'changed_22', 'changed_23', 'changed_24', 'changed_25', 'changed_26', 'changed_27', 'changed_28', 'changed_29', 'changed_30', 'changed_31', 'changed_32', 'changed_33', 'changed_34', 'changed_35', 'changed_36', 'changed_37', 'changed_38', 'changed_39', 'changed_40', 'changed_41', 'changed_42', 'changed_43', 'changed_44', 'changed_45', 'changed_46', 'changed_47', 'changed_48', 'changed_49', 'changed_50', 'changed_51', 'changed_52', 'changed_53', 'changed_54', 'changed_55', 'changed_56'])"
      ]
     },
     "execution_count": 3,
     "metadata": {},
     "output_type": "execute_result"
    }
   ],
   "source": [
    "result_dict.keys()"
   ]
  },
  {
   "cell_type": "code",
   "execution_count": 4,
   "metadata": {},
   "outputs": [],
   "source": [
    "import pickle\n",
    "with open('data.pkl', 'wb') as file:\n",
    "    # Serialize the data and write it to the file\n",
    "    pickle.dump(result_dict, file)"
   ]
  },
  {
   "cell_type": "code",
   "execution_count": 5,
   "metadata": {},
   "outputs": [
    {
     "data": {
      "text/plain": [
       "84"
      ]
     },
     "execution_count": 5,
     "metadata": {},
     "output_type": "execute_result"
    }
   ],
   "source": [
    "len(test_1)"
   ]
  },
  {
   "cell_type": "code",
   "execution_count": 6,
   "metadata": {},
   "outputs": [
    {
     "data": {
      "text/plain": [
       "28"
      ]
     },
     "execution_count": 6,
     "metadata": {},
     "output_type": "execute_result"
    }
   ],
   "source": [
    "len(set(test_1))"
   ]
  },
  {
   "cell_type": "markdown",
   "metadata": {},
   "source": [
    "time limit exceeded 2 \n"
   ]
  },
  {
   "cell_type": "code",
   "execution_count": 7,
   "metadata": {},
   "outputs": [
    {
     "name": "stdout",
     "output_type": "stream",
     "text": [
      "21090\n"
     ]
    }
   ],
   "source": [
    "class Solution:\n",
    "    def find_test(self,first_group,second_group):\n",
    "        first_min , second_min = min(first_group) , min(second_group)\n",
    "        if first_min < second_min:\n",
    "            self.answer.append(first_min)\n",
    "            first_group[first_group.index(first_min)] = float('inf')\n",
    "            return ['S',first_group]\n",
    "        elif first_min > second_min:\n",
    "            self.answer.append(second_min)\n",
    "            second_group[second_group.index(second_min)] = float('inf')\n",
    "            return ['E',second_group]\n",
    "        else:\n",
    "            self.answer.append(first_min)\n",
    "            first_group[first_group.index(first_min)] = float('inf')\n",
    "            return ['S',first_group]\n",
    "    def totalCost(self, costs, k, candidates) :\n",
    "        self.answer = []\n",
    "        starting_side = candidates\n",
    "        ending_side = candidates\n",
    "        costs_len = len(costs)\n",
    "        for loop in range(k):\n",
    "            if costs_len > 2*candidates:\n",
    "                status , value  = self.find_test(costs[:starting_side] , costs[-ending_side:] )\n",
    "                if status == \"S\":\n",
    "                    costs[:starting_side] = value \n",
    "                    starting_side += 1\n",
    "                else:\n",
    "                    costs[-ending_side:] = value \n",
    "                    ending_side+=1  \n",
    "            elif costs_len <= candidates:\n",
    "                costs = self.find_test(costs,[float('inf')])[1]\n",
    "            else: \n",
    "                status , value = self.find_test(costs[:starting_side] ,  costs[-ending_side:]  )\n",
    "                if status == \"S\":\n",
    "                    costs[:starting_side] = value\n",
    "                    starting_side+=1\n",
    "                else:\n",
    "                    costs[-ending_side:] = value \n",
    "                    ending_side+=1\n",
    "            candidates = max(starting_side,ending_side)\n",
    "        return sum(self.answer)\n",
    "print(Solution().totalCost([515,705,303,791,304,382,756,957,402,399,743,919,568,141,894,488,14,452,459,930,981,662,464,663,576,302,720,855,838,51,174,97,375,813,537,750,191,991,915,972,908,370,758,864,209,478,442,685,552,717,860,996,171,168,560,595,460,285,18,96,970,746,512,420,844,183,607,267,40,491,232,278,751,277,19,419,384,85,563,556,643,896,333,468],57,15)) # 21090 "
   ]
  },
  {
   "cell_type": "code",
   "execution_count": 1,
   "metadata": {},
   "outputs": [],
   "source": [
    "test  = [31,25,72,79,74,65,84,91,18,59,27,9,81,33,17,58]"
   ]
  },
  {
   "cell_type": "code",
   "execution_count": 10,
   "metadata": {},
   "outputs": [
    {
     "data": {
      "text/plain": [
       "17"
      ]
     },
     "execution_count": 10,
     "metadata": {},
     "output_type": "execute_result"
    }
   ],
   "source": [
    "test[-2:][0]"
   ]
  },
  {
   "cell_type": "code",
   "execution_count": 11,
   "metadata": {},
   "outputs": [
    {
     "data": {
      "text/plain": [
       "[31, 25, 72, 79, 74, 65, 84, 91, 18, 59, 27, 9, 81, 33, 17, 58]"
      ]
     },
     "execution_count": 11,
     "metadata": {},
     "output_type": "execute_result"
    }
   ],
   "source": [
    "test  = [31,25,72,79,74,65,84,91,18,59,27,9,81,33,17,58]\n",
    "test[-2:][0] = 22\n",
    "test"
   ]
  },
  {
   "cell_type": "code",
   "execution_count": 7,
   "metadata": {},
   "outputs": [
    {
     "data": {
      "text/plain": [
       "[31, 25, 72, 79, 74, 65, 84, 91, 18, 59, 27, 9, 81, 33, 17, 58]"
      ]
     },
     "execution_count": 7,
     "metadata": {},
     "output_type": "execute_result"
    }
   ],
   "source": [
    "test"
   ]
  },
  {
   "cell_type": "code",
   "execution_count": null,
   "metadata": {},
   "outputs": [],
   "source": [
    "class Solution:\n",
    "    def find_test(self,first_group,second_group):\n",
    "        first_min , second_min = min(first_group) , min(second_group)\n",
    "        if first_min > second_min:\n",
    "            self.answer+=second_min\n",
    "            return ['E',second_group.index(second_min)+1]\n",
    "        else:\n",
    "            self.answer+=first_min\n",
    "            return ['S',first_group.index(first_min)]\n",
    "    def totalCost(self, costs, k, candidates) :\n",
    "        self.answer = 0\n",
    "        starting_side = candidates\n",
    "        ending_side = candidates\n",
    "        costs_len = len(costs)\n",
    "        for loop in range(k):\n",
    "            if costs_len > 2*candidates:\n",
    "                status , value  = self.find_test(costs[:starting_side] , costs[-ending_side:] )\n",
    "                if status == \"S\":\n",
    "                    costs[value] = float('inf') \n",
    "                    starting_side += 1\n",
    "                else:\n",
    "                    costs[ending_side+value] = float('inf') \n",
    "                    ending_side+=1  \n",
    "            elif costs_len <= candidates:\n",
    "                temp = min(costs)\n",
    "                self.answer += temp\n",
    "                costs[costs.index(temp)] = float('inf')\n",
    "            else: \n",
    "                status , value = self.find_test(costs[:starting_side] ,  costs[-ending_side:]  )\n",
    "                if status == \"S\":\n",
    "                    costs[value] = float('inf')\n",
    "                    starting_side+=1\n",
    "                else:\n",
    "                    costs[ending_side+value] = float('inf') \n",
    "                    ending_side+=1\n",
    "            candidates = max(starting_side,ending_side)\n",
    "        return self.answer\n",
    "print(Solution().totalCost([31,25,72,79,74,65,84,91,18,59,27,9,81,33,17,58],11,2)) #  "
   ]
  },
  {
   "cell_type": "code",
   "execution_count": 1,
   "metadata": {},
   "outputs": [
    {
     "data": {
      "text/plain": [
       "True"
      ]
     },
     "execution_count": 1,
     "metadata": {},
     "output_type": "execute_result"
    }
   ],
   "source": [
    "5 < 10 > 2"
   ]
  },
  {
   "cell_type": "code",
   "execution_count": 2,
   "metadata": {},
   "outputs": [
    {
     "data": {
      "text/plain": [
       "True"
      ]
     },
     "execution_count": 2,
     "metadata": {},
     "output_type": "execute_result"
    }
   ],
   "source": [
    "5==5>2"
   ]
  },
  {
   "cell_type": "code",
   "execution_count": null,
   "metadata": {},
   "outputs": [],
   "source": []
  }
 ],
 "metadata": {
  "kernelspec": {
   "display_name": "base",
   "language": "python",
   "name": "python3"
  },
  "language_info": {
   "codemirror_mode": {
    "name": "ipython",
    "version": 3
   },
   "file_extension": ".py",
   "mimetype": "text/x-python",
   "name": "python",
   "nbconvert_exporter": "python",
   "pygments_lexer": "ipython3",
   "version": "3.11.7"
  }
 },
 "nbformat": 4,
 "nbformat_minor": 2
}
