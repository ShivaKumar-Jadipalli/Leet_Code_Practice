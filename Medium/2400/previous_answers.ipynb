{
 "cells": [
  {
   "cell_type": "code",
   "execution_count": null,
   "metadata": {},
   "outputs": [],
   "source": [
    "from Best_solution import Solution\n",
    "for i in range(3,30,2):\n",
    "    answer = Solution().numberOfWays(2,5,i)\n",
    "    print(\" for k = \",i,\" ways = \",answer ,' answer / k is ',answer/i)\n",
    "\n",
    "\n"
   ]
  },
  {
   "cell_type": "code",
   "execution_count": null,
   "metadata": {},
   "outputs": [],
   "source": [
    "answer_list = []\n",
    "\n",
    "# [2,3,4,5,6,7,6,5]\n",
    "temp_list = [0,1,2,3,4,5,6,7]\n",
    "for i_2 in [3,1]:\n",
    "    for i_3 in temp_list:\n",
    "        for i_4 in temp_list:\n",
    "           for i_5 in temp_list:\n",
    "               for i_6 in temp_list:\n",
    "                   for i_7 in temp_list:\n",
    "                       if (2==i_2+1 or 2==i_2-1) and (i_2 == i_3+1 or i_2==i_3-1) and (i_3 == i_4+1 or i_3==i_4-1) and (i_4==i_5+1 or i_4==i_5-1) and (i_5==i_6+1 or i_5==i_6-1) and (i_6==i_7+1 or i_6==i_7-1) and (i_7==6 or i_7==4):\n",
    "                           answer_list.append([2,i_2,i_3,i_4,i_5,i_6,i_7,5])\n",
    "for i in answer_list:\n",
    "    print(i)\n",
    "print(len(answer_list))\n"
   ]
  }
 ],
 "metadata": {
  "language_info": {
   "name": "python"
  }
 },
 "nbformat": 4,
 "nbformat_minor": 2
}
